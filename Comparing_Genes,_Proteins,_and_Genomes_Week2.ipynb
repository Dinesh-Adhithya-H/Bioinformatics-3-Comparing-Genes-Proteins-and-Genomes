{
  "nbformat": 4,
  "nbformat_minor": 0,
  "metadata": {
    "colab": {
      "name": "Comparing Genes, Proteins, and Genomes_Week2.ipynb",
      "provenance": [],
      "authorship_tag": "ABX9TyNEsxcKIGmaY7QQZL17tHj8",
      "include_colab_link": true
    },
    "kernelspec": {
      "name": "python3",
      "display_name": "Python 3"
    },
    "language_info": {
      "name": "python"
    },
    "accelerator": "TPU"
  },
  "cells": [
    {
      "cell_type": "markdown",
      "metadata": {
        "id": "view-in-github",
        "colab_type": "text"
      },
      "source": [
        "<a href=\"https://colab.research.google.com/github/Dinesh-Adhithya-H/Bioinformatics-3-Comparing-Genes-Proteins-and-Genomes/blob/main/Comparing_Genes%2C_Proteins%2C_and_Genomes_Week2.ipynb\" target=\"_parent\"><img src=\"https://colab.research.google.com/assets/colab-badge.svg\" alt=\"Open In Colab\"/></a>"
      ]
    },
    {
      "cell_type": "markdown",
      "metadata": {
        "id": "A_x0wz7tAZbS"
      },
      "source": [
        "#the Global Alignment Problem"
      ]
    },
    {
      "cell_type": "code",
      "metadata": {
        "colab": {
          "base_uri": "https://localhost:8080/"
        },
        "id": "RayciCq4BinC",
        "outputId": "06665ddc-2c84-4488-9489-691496f64e7b"
      },
      "source": [
        "!wget https://raw.githubusercontent.com/Dinesh-Adhithya-H/Bioinformatics/master/BLOSUM62.txt"
      ],
      "execution_count": 152,
      "outputs": [
        {
          "output_type": "stream",
          "text": [
            "--2021-04-26 12:02:37--  https://raw.githubusercontent.com/Dinesh-Adhithya-H/Bioinformatics/master/BLOSUM62.txt\n",
            "Resolving raw.githubusercontent.com (raw.githubusercontent.com)... 185.199.108.133, 185.199.109.133, 185.199.110.133, ...\n",
            "Connecting to raw.githubusercontent.com (raw.githubusercontent.com)|185.199.108.133|:443... connected.\n",
            "HTTP request sent, awaiting response... 200 OK\n",
            "Length: 1321 (1.3K) [text/plain]\n",
            "Saving to: ‘BLOSUM62.txt.2’\n",
            "\n",
            "\rBLOSUM62.txt.2        0%[                    ]       0  --.-KB/s               \rBLOSUM62.txt.2      100%[===================>]   1.29K  --.-KB/s    in 0s      \n",
            "\n",
            "2021-04-26 12:02:37 (50.0 MB/s) - ‘BLOSUM62.txt.2’ saved [1321/1321]\n",
            "\n"
          ],
          "name": "stdout"
        }
      ]
    },
    {
      "cell_type": "code",
      "metadata": {
        "id": "Yqw0aQhZ_3Eb"
      },
      "source": [
        "import pandas as pd\n",
        "scoring_matrix=pd.read_csv(\"BLOSUM62.txt.2\",delim_whitespace=True)"
      ],
      "execution_count": 153,
      "outputs": []
    },
    {
      "cell_type": "code",
      "metadata": {
        "colab": {
          "base_uri": "https://localhost:8080/",
          "height": 644
        },
        "id": "e8qZnz6OCMMf",
        "outputId": "4b1684b6-7922-49ff-b45d-d8ebce95149f"
      },
      "source": [
        "scoring_matrix"
      ],
      "execution_count": 154,
      "outputs": [
        {
          "output_type": "execute_result",
          "data": {
            "text/html": [
              "<div>\n",
              "<style scoped>\n",
              "    .dataframe tbody tr th:only-of-type {\n",
              "        vertical-align: middle;\n",
              "    }\n",
              "\n",
              "    .dataframe tbody tr th {\n",
              "        vertical-align: top;\n",
              "    }\n",
              "\n",
              "    .dataframe thead th {\n",
              "        text-align: right;\n",
              "    }\n",
              "</style>\n",
              "<table border=\"1\" class=\"dataframe\">\n",
              "  <thead>\n",
              "    <tr style=\"text-align: right;\">\n",
              "      <th></th>\n",
              "      <th>A</th>\n",
              "      <th>C</th>\n",
              "      <th>D</th>\n",
              "      <th>E</th>\n",
              "      <th>F</th>\n",
              "      <th>G</th>\n",
              "      <th>H</th>\n",
              "      <th>I</th>\n",
              "      <th>K</th>\n",
              "      <th>L</th>\n",
              "      <th>M</th>\n",
              "      <th>N</th>\n",
              "      <th>P</th>\n",
              "      <th>Q</th>\n",
              "      <th>R</th>\n",
              "      <th>S</th>\n",
              "      <th>T</th>\n",
              "      <th>V</th>\n",
              "      <th>W</th>\n",
              "      <th>Y</th>\n",
              "    </tr>\n",
              "  </thead>\n",
              "  <tbody>\n",
              "    <tr>\n",
              "      <th>A</th>\n",
              "      <td>4</td>\n",
              "      <td>0</td>\n",
              "      <td>-2</td>\n",
              "      <td>-1</td>\n",
              "      <td>-2</td>\n",
              "      <td>0</td>\n",
              "      <td>-2</td>\n",
              "      <td>-1</td>\n",
              "      <td>-1</td>\n",
              "      <td>-1</td>\n",
              "      <td>-1</td>\n",
              "      <td>-2</td>\n",
              "      <td>-1</td>\n",
              "      <td>-1</td>\n",
              "      <td>-1</td>\n",
              "      <td>1</td>\n",
              "      <td>0</td>\n",
              "      <td>0</td>\n",
              "      <td>-3</td>\n",
              "      <td>-2</td>\n",
              "    </tr>\n",
              "    <tr>\n",
              "      <th>C</th>\n",
              "      <td>0</td>\n",
              "      <td>9</td>\n",
              "      <td>-3</td>\n",
              "      <td>-4</td>\n",
              "      <td>-2</td>\n",
              "      <td>-3</td>\n",
              "      <td>-3</td>\n",
              "      <td>-1</td>\n",
              "      <td>-3</td>\n",
              "      <td>-1</td>\n",
              "      <td>-1</td>\n",
              "      <td>-3</td>\n",
              "      <td>-3</td>\n",
              "      <td>-3</td>\n",
              "      <td>-3</td>\n",
              "      <td>-1</td>\n",
              "      <td>-1</td>\n",
              "      <td>-1</td>\n",
              "      <td>-2</td>\n",
              "      <td>-2</td>\n",
              "    </tr>\n",
              "    <tr>\n",
              "      <th>D</th>\n",
              "      <td>-2</td>\n",
              "      <td>-3</td>\n",
              "      <td>6</td>\n",
              "      <td>2</td>\n",
              "      <td>-3</td>\n",
              "      <td>-1</td>\n",
              "      <td>-1</td>\n",
              "      <td>-3</td>\n",
              "      <td>-1</td>\n",
              "      <td>-4</td>\n",
              "      <td>-3</td>\n",
              "      <td>1</td>\n",
              "      <td>-1</td>\n",
              "      <td>0</td>\n",
              "      <td>-2</td>\n",
              "      <td>0</td>\n",
              "      <td>-1</td>\n",
              "      <td>-3</td>\n",
              "      <td>-4</td>\n",
              "      <td>-3</td>\n",
              "    </tr>\n",
              "    <tr>\n",
              "      <th>E</th>\n",
              "      <td>-1</td>\n",
              "      <td>-4</td>\n",
              "      <td>2</td>\n",
              "      <td>5</td>\n",
              "      <td>-3</td>\n",
              "      <td>-2</td>\n",
              "      <td>0</td>\n",
              "      <td>-3</td>\n",
              "      <td>1</td>\n",
              "      <td>-3</td>\n",
              "      <td>-2</td>\n",
              "      <td>0</td>\n",
              "      <td>-1</td>\n",
              "      <td>2</td>\n",
              "      <td>0</td>\n",
              "      <td>0</td>\n",
              "      <td>-1</td>\n",
              "      <td>-2</td>\n",
              "      <td>-3</td>\n",
              "      <td>-2</td>\n",
              "    </tr>\n",
              "    <tr>\n",
              "      <th>F</th>\n",
              "      <td>-2</td>\n",
              "      <td>-2</td>\n",
              "      <td>-3</td>\n",
              "      <td>-3</td>\n",
              "      <td>6</td>\n",
              "      <td>-3</td>\n",
              "      <td>-1</td>\n",
              "      <td>0</td>\n",
              "      <td>-3</td>\n",
              "      <td>0</td>\n",
              "      <td>0</td>\n",
              "      <td>-3</td>\n",
              "      <td>-4</td>\n",
              "      <td>-3</td>\n",
              "      <td>-3</td>\n",
              "      <td>-2</td>\n",
              "      <td>-2</td>\n",
              "      <td>-1</td>\n",
              "      <td>1</td>\n",
              "      <td>3</td>\n",
              "    </tr>\n",
              "    <tr>\n",
              "      <th>G</th>\n",
              "      <td>0</td>\n",
              "      <td>-3</td>\n",
              "      <td>-1</td>\n",
              "      <td>-2</td>\n",
              "      <td>-3</td>\n",
              "      <td>6</td>\n",
              "      <td>-2</td>\n",
              "      <td>-4</td>\n",
              "      <td>-2</td>\n",
              "      <td>-4</td>\n",
              "      <td>-3</td>\n",
              "      <td>0</td>\n",
              "      <td>-2</td>\n",
              "      <td>-2</td>\n",
              "      <td>-2</td>\n",
              "      <td>0</td>\n",
              "      <td>-2</td>\n",
              "      <td>-3</td>\n",
              "      <td>-2</td>\n",
              "      <td>-3</td>\n",
              "    </tr>\n",
              "    <tr>\n",
              "      <th>H</th>\n",
              "      <td>-2</td>\n",
              "      <td>-3</td>\n",
              "      <td>-1</td>\n",
              "      <td>0</td>\n",
              "      <td>-1</td>\n",
              "      <td>-2</td>\n",
              "      <td>8</td>\n",
              "      <td>-3</td>\n",
              "      <td>-1</td>\n",
              "      <td>-3</td>\n",
              "      <td>-2</td>\n",
              "      <td>1</td>\n",
              "      <td>-2</td>\n",
              "      <td>0</td>\n",
              "      <td>0</td>\n",
              "      <td>-1</td>\n",
              "      <td>-2</td>\n",
              "      <td>-3</td>\n",
              "      <td>-2</td>\n",
              "      <td>2</td>\n",
              "    </tr>\n",
              "    <tr>\n",
              "      <th>I</th>\n",
              "      <td>-1</td>\n",
              "      <td>-1</td>\n",
              "      <td>-3</td>\n",
              "      <td>-3</td>\n",
              "      <td>0</td>\n",
              "      <td>-4</td>\n",
              "      <td>-3</td>\n",
              "      <td>4</td>\n",
              "      <td>-3</td>\n",
              "      <td>2</td>\n",
              "      <td>1</td>\n",
              "      <td>-3</td>\n",
              "      <td>-3</td>\n",
              "      <td>-3</td>\n",
              "      <td>-3</td>\n",
              "      <td>-2</td>\n",
              "      <td>-1</td>\n",
              "      <td>3</td>\n",
              "      <td>-3</td>\n",
              "      <td>-1</td>\n",
              "    </tr>\n",
              "    <tr>\n",
              "      <th>K</th>\n",
              "      <td>-1</td>\n",
              "      <td>-3</td>\n",
              "      <td>-1</td>\n",
              "      <td>1</td>\n",
              "      <td>-3</td>\n",
              "      <td>-2</td>\n",
              "      <td>-1</td>\n",
              "      <td>-3</td>\n",
              "      <td>5</td>\n",
              "      <td>-2</td>\n",
              "      <td>-1</td>\n",
              "      <td>0</td>\n",
              "      <td>-1</td>\n",
              "      <td>1</td>\n",
              "      <td>2</td>\n",
              "      <td>0</td>\n",
              "      <td>-1</td>\n",
              "      <td>-2</td>\n",
              "      <td>-3</td>\n",
              "      <td>-2</td>\n",
              "    </tr>\n",
              "    <tr>\n",
              "      <th>L</th>\n",
              "      <td>-1</td>\n",
              "      <td>-1</td>\n",
              "      <td>-4</td>\n",
              "      <td>-3</td>\n",
              "      <td>0</td>\n",
              "      <td>-4</td>\n",
              "      <td>-3</td>\n",
              "      <td>2</td>\n",
              "      <td>-2</td>\n",
              "      <td>4</td>\n",
              "      <td>2</td>\n",
              "      <td>-3</td>\n",
              "      <td>-3</td>\n",
              "      <td>-2</td>\n",
              "      <td>-2</td>\n",
              "      <td>-2</td>\n",
              "      <td>-1</td>\n",
              "      <td>1</td>\n",
              "      <td>-2</td>\n",
              "      <td>-1</td>\n",
              "    </tr>\n",
              "    <tr>\n",
              "      <th>M</th>\n",
              "      <td>-1</td>\n",
              "      <td>-1</td>\n",
              "      <td>-3</td>\n",
              "      <td>-2</td>\n",
              "      <td>0</td>\n",
              "      <td>-3</td>\n",
              "      <td>-2</td>\n",
              "      <td>1</td>\n",
              "      <td>-1</td>\n",
              "      <td>2</td>\n",
              "      <td>5</td>\n",
              "      <td>-2</td>\n",
              "      <td>-2</td>\n",
              "      <td>0</td>\n",
              "      <td>-1</td>\n",
              "      <td>-1</td>\n",
              "      <td>-1</td>\n",
              "      <td>1</td>\n",
              "      <td>-1</td>\n",
              "      <td>-1</td>\n",
              "    </tr>\n",
              "    <tr>\n",
              "      <th>N</th>\n",
              "      <td>-2</td>\n",
              "      <td>-3</td>\n",
              "      <td>1</td>\n",
              "      <td>0</td>\n",
              "      <td>-3</td>\n",
              "      <td>0</td>\n",
              "      <td>1</td>\n",
              "      <td>-3</td>\n",
              "      <td>0</td>\n",
              "      <td>-3</td>\n",
              "      <td>-2</td>\n",
              "      <td>6</td>\n",
              "      <td>-2</td>\n",
              "      <td>0</td>\n",
              "      <td>0</td>\n",
              "      <td>1</td>\n",
              "      <td>0</td>\n",
              "      <td>-3</td>\n",
              "      <td>-4</td>\n",
              "      <td>-2</td>\n",
              "    </tr>\n",
              "    <tr>\n",
              "      <th>P</th>\n",
              "      <td>-1</td>\n",
              "      <td>-3</td>\n",
              "      <td>-1</td>\n",
              "      <td>-1</td>\n",
              "      <td>-4</td>\n",
              "      <td>-2</td>\n",
              "      <td>-2</td>\n",
              "      <td>-3</td>\n",
              "      <td>-1</td>\n",
              "      <td>-3</td>\n",
              "      <td>-2</td>\n",
              "      <td>-2</td>\n",
              "      <td>7</td>\n",
              "      <td>-1</td>\n",
              "      <td>-2</td>\n",
              "      <td>-1</td>\n",
              "      <td>-1</td>\n",
              "      <td>-2</td>\n",
              "      <td>-4</td>\n",
              "      <td>-3</td>\n",
              "    </tr>\n",
              "    <tr>\n",
              "      <th>Q</th>\n",
              "      <td>-1</td>\n",
              "      <td>-3</td>\n",
              "      <td>0</td>\n",
              "      <td>2</td>\n",
              "      <td>-3</td>\n",
              "      <td>-2</td>\n",
              "      <td>0</td>\n",
              "      <td>-3</td>\n",
              "      <td>1</td>\n",
              "      <td>-2</td>\n",
              "      <td>0</td>\n",
              "      <td>0</td>\n",
              "      <td>-1</td>\n",
              "      <td>5</td>\n",
              "      <td>1</td>\n",
              "      <td>0</td>\n",
              "      <td>-1</td>\n",
              "      <td>-2</td>\n",
              "      <td>-2</td>\n",
              "      <td>-1</td>\n",
              "    </tr>\n",
              "    <tr>\n",
              "      <th>R</th>\n",
              "      <td>-1</td>\n",
              "      <td>-3</td>\n",
              "      <td>-2</td>\n",
              "      <td>0</td>\n",
              "      <td>-3</td>\n",
              "      <td>-2</td>\n",
              "      <td>0</td>\n",
              "      <td>-3</td>\n",
              "      <td>2</td>\n",
              "      <td>-2</td>\n",
              "      <td>-1</td>\n",
              "      <td>0</td>\n",
              "      <td>-2</td>\n",
              "      <td>1</td>\n",
              "      <td>5</td>\n",
              "      <td>-1</td>\n",
              "      <td>-1</td>\n",
              "      <td>-3</td>\n",
              "      <td>-3</td>\n",
              "      <td>-2</td>\n",
              "    </tr>\n",
              "    <tr>\n",
              "      <th>S</th>\n",
              "      <td>1</td>\n",
              "      <td>-1</td>\n",
              "      <td>0</td>\n",
              "      <td>0</td>\n",
              "      <td>-2</td>\n",
              "      <td>0</td>\n",
              "      <td>-1</td>\n",
              "      <td>-2</td>\n",
              "      <td>0</td>\n",
              "      <td>-2</td>\n",
              "      <td>-1</td>\n",
              "      <td>1</td>\n",
              "      <td>-1</td>\n",
              "      <td>0</td>\n",
              "      <td>-1</td>\n",
              "      <td>4</td>\n",
              "      <td>1</td>\n",
              "      <td>-2</td>\n",
              "      <td>-3</td>\n",
              "      <td>-2</td>\n",
              "    </tr>\n",
              "    <tr>\n",
              "      <th>T</th>\n",
              "      <td>0</td>\n",
              "      <td>-1</td>\n",
              "      <td>-1</td>\n",
              "      <td>-1</td>\n",
              "      <td>-2</td>\n",
              "      <td>-2</td>\n",
              "      <td>-2</td>\n",
              "      <td>-1</td>\n",
              "      <td>-1</td>\n",
              "      <td>-1</td>\n",
              "      <td>-1</td>\n",
              "      <td>0</td>\n",
              "      <td>-1</td>\n",
              "      <td>-1</td>\n",
              "      <td>-1</td>\n",
              "      <td>1</td>\n",
              "      <td>5</td>\n",
              "      <td>0</td>\n",
              "      <td>-2</td>\n",
              "      <td>-2</td>\n",
              "    </tr>\n",
              "    <tr>\n",
              "      <th>V</th>\n",
              "      <td>0</td>\n",
              "      <td>-1</td>\n",
              "      <td>-3</td>\n",
              "      <td>-2</td>\n",
              "      <td>-1</td>\n",
              "      <td>-3</td>\n",
              "      <td>-3</td>\n",
              "      <td>3</td>\n",
              "      <td>-2</td>\n",
              "      <td>1</td>\n",
              "      <td>1</td>\n",
              "      <td>-3</td>\n",
              "      <td>-2</td>\n",
              "      <td>-2</td>\n",
              "      <td>-3</td>\n",
              "      <td>-2</td>\n",
              "      <td>0</td>\n",
              "      <td>4</td>\n",
              "      <td>-3</td>\n",
              "      <td>-1</td>\n",
              "    </tr>\n",
              "    <tr>\n",
              "      <th>W</th>\n",
              "      <td>-3</td>\n",
              "      <td>-2</td>\n",
              "      <td>-4</td>\n",
              "      <td>-3</td>\n",
              "      <td>1</td>\n",
              "      <td>-2</td>\n",
              "      <td>-2</td>\n",
              "      <td>-3</td>\n",
              "      <td>-3</td>\n",
              "      <td>-2</td>\n",
              "      <td>-1</td>\n",
              "      <td>-4</td>\n",
              "      <td>-4</td>\n",
              "      <td>-2</td>\n",
              "      <td>-3</td>\n",
              "      <td>-3</td>\n",
              "      <td>-2</td>\n",
              "      <td>-3</td>\n",
              "      <td>11</td>\n",
              "      <td>2</td>\n",
              "    </tr>\n",
              "    <tr>\n",
              "      <th>Y</th>\n",
              "      <td>-2</td>\n",
              "      <td>-2</td>\n",
              "      <td>-3</td>\n",
              "      <td>-2</td>\n",
              "      <td>3</td>\n",
              "      <td>-3</td>\n",
              "      <td>2</td>\n",
              "      <td>-1</td>\n",
              "      <td>-2</td>\n",
              "      <td>-1</td>\n",
              "      <td>-1</td>\n",
              "      <td>-2</td>\n",
              "      <td>-3</td>\n",
              "      <td>-1</td>\n",
              "      <td>-2</td>\n",
              "      <td>-2</td>\n",
              "      <td>-2</td>\n",
              "      <td>-1</td>\n",
              "      <td>2</td>\n",
              "      <td>7</td>\n",
              "    </tr>\n",
              "  </tbody>\n",
              "</table>\n",
              "</div>"
            ],
            "text/plain": [
              "   A  C  D  E  F  G  H  I  K  L  M  N  P  Q  R  S  T  V   W  Y\n",
              "A  4  0 -2 -1 -2  0 -2 -1 -1 -1 -1 -2 -1 -1 -1  1  0  0  -3 -2\n",
              "C  0  9 -3 -4 -2 -3 -3 -1 -3 -1 -1 -3 -3 -3 -3 -1 -1 -1  -2 -2\n",
              "D -2 -3  6  2 -3 -1 -1 -3 -1 -4 -3  1 -1  0 -2  0 -1 -3  -4 -3\n",
              "E -1 -4  2  5 -3 -2  0 -3  1 -3 -2  0 -1  2  0  0 -1 -2  -3 -2\n",
              "F -2 -2 -3 -3  6 -3 -1  0 -3  0  0 -3 -4 -3 -3 -2 -2 -1   1  3\n",
              "G  0 -3 -1 -2 -3  6 -2 -4 -2 -4 -3  0 -2 -2 -2  0 -2 -3  -2 -3\n",
              "H -2 -3 -1  0 -1 -2  8 -3 -1 -3 -2  1 -2  0  0 -1 -2 -3  -2  2\n",
              "I -1 -1 -3 -3  0 -4 -3  4 -3  2  1 -3 -3 -3 -3 -2 -1  3  -3 -1\n",
              "K -1 -3 -1  1 -3 -2 -1 -3  5 -2 -1  0 -1  1  2  0 -1 -2  -3 -2\n",
              "L -1 -1 -4 -3  0 -4 -3  2 -2  4  2 -3 -3 -2 -2 -2 -1  1  -2 -1\n",
              "M -1 -1 -3 -2  0 -3 -2  1 -1  2  5 -2 -2  0 -1 -1 -1  1  -1 -1\n",
              "N -2 -3  1  0 -3  0  1 -3  0 -3 -2  6 -2  0  0  1  0 -3  -4 -2\n",
              "P -1 -3 -1 -1 -4 -2 -2 -3 -1 -3 -2 -2  7 -1 -2 -1 -1 -2  -4 -3\n",
              "Q -1 -3  0  2 -3 -2  0 -3  1 -2  0  0 -1  5  1  0 -1 -2  -2 -1\n",
              "R -1 -3 -2  0 -3 -2  0 -3  2 -2 -1  0 -2  1  5 -1 -1 -3  -3 -2\n",
              "S  1 -1  0  0 -2  0 -1 -2  0 -2 -1  1 -1  0 -1  4  1 -2  -3 -2\n",
              "T  0 -1 -1 -1 -2 -2 -2 -1 -1 -1 -1  0 -1 -1 -1  1  5  0  -2 -2\n",
              "V  0 -1 -3 -2 -1 -3 -3  3 -2  1  1 -3 -2 -2 -3 -2  0  4  -3 -1\n",
              "W -3 -2 -4 -3  1 -2 -2 -3 -3 -2 -1 -4 -4 -2 -3 -3 -2 -3  11  2\n",
              "Y -2 -2 -3 -2  3 -3  2 -1 -2 -1 -1 -2 -3 -1 -2 -2 -2 -1   2  7"
            ]
          },
          "metadata": {
            "tags": []
          },
          "execution_count": 154
        }
      ]
    },
    {
      "cell_type": "code",
      "metadata": {
        "colab": {
          "base_uri": "https://localhost:8080/"
        },
        "id": "USS7LFAxBu_a",
        "outputId": "120bcb06-1a4f-48e2-90d0-ba3e06b68b83"
      },
      "source": [
        "scoring_matrix[\"A\"][\"A\"]"
      ],
      "execution_count": 155,
      "outputs": [
        {
          "output_type": "execute_result",
          "data": {
            "text/plain": [
              "4"
            ]
          },
          "metadata": {
            "tags": []
          },
          "execution_count": 155
        }
      ]
    },
    {
      "cell_type": "code",
      "metadata": {
        "id": "yVghPsAZCKUz"
      },
      "source": [
        "def sigma():\n",
        "  return 5"
      ],
      "execution_count": 156,
      "outputs": []
    },
    {
      "cell_type": "code",
      "metadata": {
        "id": "-U7gIZ0mXvW3"
      },
      "source": [
        "indelInsertFcn = lambda seq, i: seq[:i] + '-' + seq[i:]"
      ],
      "execution_count": 157,
      "outputs": []
    },
    {
      "cell_type": "code",
      "metadata": {
        "id": "8HfIWVhXELnA"
      },
      "source": [
        "def Global_Alignment(seq1,seq2,n,m):\n",
        "  table=[ [0 for i in range(m+1)] for j in range(n+1)]\n",
        "  for i in range(n+1):\n",
        "    table[i][0]=-sigma()*i\n",
        "  for i in range(m+1):\n",
        "    table[0][i]=-sigma()*i\n",
        "  for i in range(1,n+1):\n",
        "    for j in range(1,m+1):\n",
        "      table[i][j]=max(table[i-1][j]-sigma(),table[i][j-1]-sigma(),table[i-1][j-1]+scoring_matrix[seq1[i-1]][seq2[j-1]])\n",
        "  s1=seq1\n",
        "  s2=seq2\n",
        "  i=n\n",
        "  j=m\n",
        "  score=table[i][j]\n",
        "  while i>-1 and j>-1:\n",
        "    if table[i][j]==table[i-1][j]-sigma():\n",
        "      #s1=\"-\"+s1\n",
        "      #s2=seq2[j-1]+s2\n",
        "      i=i-1\n",
        "      s2=indelInsertFcn(s2,j)\n",
        "      #print(\"down\")\n",
        "\n",
        "    elif table[i][j]==table[i][j-1]-sigma():\n",
        "      #s2=\"-\"+s2\n",
        "      #s1=seq1[i-1]+s1\n",
        "      j=j-1\n",
        "      s1=indelInsertFcn(s1,i)\n",
        "      #print(\"up\")\n",
        "\n",
        "    else :\n",
        "      #s2=seq2[j-1]+s2\n",
        "      #s1=seq1[i-1]+s1\n",
        "      i=i-1\n",
        "      j=j-1\n",
        "      #print(\"dia\")\n",
        "  print(score)\n",
        "  return (score,s1,s2)"
      ],
      "execution_count": 178,
      "outputs": []
    },
    {
      "cell_type": "code",
      "metadata": {
        "id": "Ytcg27x_I3bc"
      },
      "source": [
        "#test"
      ],
      "execution_count": 186,
      "outputs": []
    },
    {
      "cell_type": "code",
      "metadata": {
        "id": "_l5ktLMQERfN"
      },
      "source": [
        "s1=\"CYKYNPHMLWWIGFDNMKDDLTNIFLNAYDEYMAWWCADCEIVYSHMTHSMTEHLEDQYFKGKPHRWPWSKIYWGNMQINTCVILQVCKTDALSAAQQRDLWGKCCPEQEMESMTYPREECGIYFMRIGIKCQYELGFQNENNTQRSAYLEQYALSDCRSQMIQNPGRYRPRLGRIWSTSEAYDRLIRLDEYDILTRIQKYSGCCPCCSVHEPNDYTWVTVLQYYAKRLEDIFGQHATDTNYAQGVAYTRPWVPATWMDFRGDNYAMTCCSFPMVHDTVIVNWHKDFFRFEHMICPTEWDRIRMIITEWTRHDRIEKVKTAWTRYFQQMWFCAARMPSGWEKVITADETMMENAHCIMYKIYMQDAHCVCVCMSVEWLPKPYSRLPAQKTISDTAKNHPCFRANVTNMHLCKGQYCYPCAKIETVKVSWNGDTEVKEEIKYNQYTFGCKSALGAVIWAHHFWYAVDPMIPRNPSMNFMVTDYGQNMEFKELIVQCVHTLHEEPDDWIHDGFLGVDSIMGAQNYMPKAYDHTLSVIDCQIHCAGRNGNEMTEYIKSDHSYIARWDLPDWTHLCVAMLHARGYDFVCDVIRSEPCMFSWKKRIGRDYVAECLWRGAWWYNKHTKKCTSEKWKFGAPNFWITNFCQNLFFYPNGMNIDSFAIQVEWAMKHFQPITQKGICWGAGMHLVSQQCCQPAWNHYELAIVKLPLRMMFLTHMSINTWHFCHGVGRIARPAFICYDMNEQGNTASIWWQTKFHCKGHTVLTSGERRSHDCYPMHMWDELFRLCCKENATTQ\"\n",
        "s2=\"CLWWILWNIFLNAAKYVSPLRGDEYMGWWCADCEIVYSHMPHSVTTEHLEDQYAKGKPVRWPARHLVEGNDLVMQINKTDALSAAQQTAIRDDWEKCCVFQEMEYPREECGIYFFFNTQRTRPIWCIIGIKCQYELGFQNENNTAYLEQYALSDCRSGMITRWMWKMGNPGRRPRLGIQHIMWHSTSENYDRPIFLDMYDIRIQKYSGCCPCCSVHAPNDYTYAKRLEQAQGVAYARPWVPADCQQHIDHSTYAMTCCSCPMHHDTVIVNWHKDFFRFEHMICPTEIRMVITEWTRHDRIEKVKTAWKEVRYFQQMWFCAASQWEDIDMSPTWTQRKVITADETMMEEVRKIYMQDAHCVCVFMSSMHCYSRLSQANPIAAQKTIFRANVTNMHLCKTQPCEKIETVKVSWWLARIKYNAIIKWYGWDYTFACWTSRGPCCKSALQAVIHHYTRLQCQPHHFWYAVDPMIHPGTWANCQGNPSMNFMLMWKAGQNMEFKELIWTNANTCNCVHTNMYCSIIHDGAQNAYDHVLSVIPCIYWAAFWCKELSWAIQCIEMMECMWKAILVGPLSWDLPAEQWTHLCVAMLHARGYDFCMFSWKWRIGRDYVAECLWRGAWWYNKHTKKCTSEFDQWGAPNFWITNFCQNLFFYPCQGMNIDSFATMVEWAMKHFQPITCLCPDLEVKEICNETEGAGQHLVSQQCCQGAWNIYELAIVKLPLRRSCPVIHDNWTWVASSNRYMSINTWHFCMVREHMDAIWYDMNEQGTCTKFHCKGHTVLSGERRSKGIAMQRDCEPHHMWDELCCKLNATDMTHQ\"\n",
        "n=len(s1)\n",
        "m=len(s2)"
      ],
      "execution_count": 188,
      "outputs": []
    },
    {
      "cell_type": "code",
      "metadata": {
        "colab": {
          "base_uri": "https://localhost:8080/"
        },
        "id": "63NCuHvuEVFF",
        "outputId": "70cbb259-646d-48cb-a98a-206528636fca"
      },
      "source": [
        "s,a,b=Global_Alignment(s1,s2,n,m)"
      ],
      "execution_count": 189,
      "outputs": [
        {
          "output_type": "stream",
          "text": [
            "1956\n"
          ],
          "name": "stdout"
        }
      ]
    },
    {
      "cell_type": "code",
      "metadata": {
        "colab": {
          "base_uri": "https://localhost:8080/"
        },
        "id": "Yll1rcKqEZ1A",
        "outputId": "120f0223-93b3-4023-8315-c26b31f9de4d"
      },
      "source": [
        "print(a)\n",
        "print(b)"
      ],
      "execution_count": 190,
      "outputs": [
        {
          "output_type": "stream",
          "text": [
            "CYKYNPHMLWWIGFDNMKDDLTNIFLNAYDEYMAWWCADCEIVYSHMTHSMT-EHLEDQYFKGKPHRWPWSKIYWGNMQINTCVILQVCKTDALSAAQQ---RDLWGKCCPEQEMESMTYPREECGIYFM----R---I----GIKCQYELGFQNENNTQRSAYLEQYALSDCRSQMI-Q------NPGRYRPRLG-R-I-W-STSEAYDRLIRLDEYDILTRIQKYSGCCPCCSVHEPNDYTWVTVLQYYAKRLEDIFGQHATDTNYAQGVAYTRPWVPATWMD-FRGDNYAMTCCSFPMVHDTVIVNWHKDFFRFEHMICPTEWDRIRMIITEWTRHDRIEKVKTAW--TRYFQQMWFCAA-R-----M-PSGW-E-KVITADETMMENAHCIMYKIYMQDAHCVCVCMSVEWLPKPYSRLPAQKTISDTAKNHPCFRANVTNMHLCKGQYCYPCAKIETVKVSWNGDTEVK-EEI-K-YN-QYTF------G-C-KSALGAVI--WA------HHFWYAVDPMI-P------R-NPSMNFMVT-DYGQNMEFKELIVQCVHTLHEEPDDWIHDGFLGVDSIMGAQNYMPKAYDHTLSVIDC-Q-I-H-CAGRN-G-N--EMTEYI-KSDH-SYIARWDLP-D-WTHLCVAMLHARGYDFVCDVIRSEPCMFSWKKRIGRDYVAECLWRGAWWYNKHTKKCTSEKWKFGAPNFWITNFCQNLFFYP-NGMNIDSFAIQVEWAMKHFQPIT------Q-KGIC--W-GAGMHLVSQQCCQPAWNHYELAIVKLPLR----MM---F--L-T---HMSINTWHFCHGVGRIARPAFICYDMNEQGNTASIWWQTKFHCKGHTVLTSGERRS-----H-DCYPMHMWDELFRLCCKENAT--T-Q\n",
            "CL-W--WILWNI-FLNAAKYVSP--LRG-DEYMGWWCADCEIVYSHMPHSVTTEHLEDQYAKGKPVRWPARHLVEGN-DL---V-MQINKTDALSAAQQTAIRDDWEKCCVFQEME---YPREECGIYFFFNTQRTRPIWCIIGIKCQYELGFQNENNT---AYLEQYALSDCRSGMITRWMWKMGNPGR-RPRLGIQHIMWHSTSENYDRPIFLDMYDI--RIQKYSGCCPCCSVHAPNDYT------Y-AKRLE----Q-A------QGVAYARPWVPADCQQHIDHSTYAMTCCSCPMHHDTVIVNWHKDFFRFEHMICPTE---IRMVITEWTRHDRIEKVKTAWKEVRYFQQMWFCAASQWEDIDMSPT-WTQRKVITADETMMEE---VR-KIYMQDAHCVCVFMS-S-M-HCYSRL-SQ-A-NPIAAQKTIFRANVTNMHLCKTQ---PCEKIETVKVSW-WLARIKYNAIIKWYGWDYTFACWTSRGPCCKSALQAVIHHYTRLQCQPHHFWYAVDPMIHPGTWANCQGNPSMNFMLMWKAGQNMEFKELIWTNANTCNCVHTN-MYCSIIH-D---GAQN----AYDHVLSVIPCIYWAAFWCKELSWAIQCIEMMECMWKAILVGPLS-WDLPAEQWTHLCVAMLHARGYDF-C--------MFSWKWRIGRDYVAECLWRGAWWYNKHTKKCTSEFDQWGAPNFWITNFCQNLFFYPCQGMNIDSFATMVEWAMKHFQPITCLCPDLEVKEICNETEGAGQHLVSQQCCQGAWNIYELAIVKLPLRRSCPVIHDNWTWVASSNRYMSINTWHFCM-V-REHMDA-IWYDMNEQG-TC-----TKFHCKGHTVL-SGERRSKGIAMQRDCEPHHMWDEL---CCKLNATDMTHQ\n"
          ],
          "name": "stdout"
        }
      ]
    },
    {
      "cell_type": "code",
      "metadata": {
        "colab": {
          "base_uri": "https://localhost:8080/"
        },
        "id": "kiCxe45OEdtM",
        "outputId": "95577486-e9b1-4f3c-da79-15c3c0d3726c"
      },
      "source": [
        "\"ILYPRQSMICMSFCF-WDM--WKKDVPVVLMMFLERRQMQSVF-S-WL--VTVKTDCGKGIYNHR-K--Y-LGLPTMTAGDWHWIKK---Q-NDPHEWFQGRLETAWLHSTFLYWKYFE-CDAVKVCMDTFGLFGHCDWDQQIHTCTHENEPAIAFLDLYCRHSPMCDKLYPVWDMACQTCHFHHSWFCRNQEMWMKGDVDDWQWGYHYHTINSAQCNQWFKEICKDMGWDSVFPPRHNCQRHKKCMPALYAGIW---MA----TDHACTFMVRLIYTENIAEWHQVYCYRSMNMFTCGNVCLRCKSWIFVKN-YMMAPVVNDPMIEA--FYKRCCILGKAWYDMWGICPVERKSHWEIYAKDLLSFESCCSQKKQNCYTDNWGLEYRLFFQSIQMN-TDPH----Y--CQTHVCW-ISAMF-PIYSPFYT--SG-PKEFYMW---LQARI-DQNM---HGHANHYV-TSGNWDSVYTPEKRA--G--V-FP-V-V-------VPVWYPPQMCN--D-YIKLTYEC--E---RFHVEGTFGCNRWD-L-GCRR--YII--FQCPYCDTMKI---CY--VDQWRSIKEGQFRMSGYPNHGYWFVHDDHTNEW-----CNQPVLAKFVRSKIVA---ICKKSQTVFHYAYTPGYNATWPQTNVCERMYGPHDNLLNNQQNVTFWWKMVPNCGMQILISCHNKMKWPT--S-HYVF---MRLKCMHVLMQMEYLDHFTGPGEGDFCRNMQPYMHQDLHWEGSMRAILEYQAEHH-RRAFRA----ELCAQYDQEIILWSGGWGVQDCGFHANYDGSLQVVSGEPCSMWCTTVMQYYADCWEKCMFA\"==a"
      ],
      "execution_count": 184,
      "outputs": [
        {
          "output_type": "execute_result",
          "data": {
            "text/plain": [
              "True"
            ]
          },
          "metadata": {
            "tags": []
          },
          "execution_count": 184
        }
      ]
    },
    {
      "cell_type": "code",
      "metadata": {
        "colab": {
          "base_uri": "https://localhost:8080/"
        },
        "id": "aLI6WZptF_HK",
        "outputId": "f60e638b-4a47-4ca1-f443-83be33760545"
      },
      "source": [
        "\"ILIPRQQMGCFPFPWHFDFCFWSAHHSLVVP--LNP-QMQTVFQNRGLDRVTVKTDC----HDHRWKWIYNLGLPTMTAGDWHFIKKHVVRANNPHQWFQGRLTTAWLHSTFLY-KKTEYC-LVR---HS-NCC-HCDWDQIIHTCAF-----IAFLDLYQRHWPMCDKLY------C---HFHHSWFCRNQEMSM--D---W---------N--Q---WFP-------WDSV-P-RANCLE-EGALIALYAGIWANSMKRDMKTDHACT--VRLIYVCELHAWLK-YCYTSINML-CGNVCLRCKSWIFVKLFYMYAPVVNTIEANSPHYYKRCCILGQ------GICPVERKSHCEIYAKDLLSFESCCSQK-QNCYTDNWGLEYRLFFQHIQMECTDPHANRGWTSCQTAKYWHFNLDDRPP-KEFYMWLQATPTDLCMYQHCLMFKIVKQNFRKQHGHANPAASTSGNWDSVYTPEKMAYKDWYVSHPPVDMRRNGSKMVPVWYPPGIWHWKQSY-KLTYECFFTVPGRFHVEGTFGCNRWDHQPGTRRDRQANHQFQCPYSDTMAIWEHAYTYVDQWRSIKEGQMPMSGYPNHGQWNVHDDHTNEQERSPICNQPVLAKFVRSKNVSNHEICKKSQTVFHWA-C---EA---QTNVCERMLN-NQHVAV-KRNVTFWWQMVPNC----LWSCHNKMTWPTRPEQHRLFFVKMRLKCMH-----EYLD--VAPS--DFCRNMQAYMH-------SMRAILEYQADFDLKRRLRAIAPMDLCAQYDQEIILWSGGY-I--------YDQSLQVVSCEGCSYYADCYVKCI-NVKEKCMFA\"==b"
      ],
      "execution_count": 185,
      "outputs": [
        {
          "output_type": "execute_result",
          "data": {
            "text/plain": [
              "True"
            ]
          },
          "metadata": {
            "tags": []
          },
          "execution_count": 185
        }
      ]
    },
    {
      "cell_type": "markdown",
      "metadata": {
        "id": "Vcv2PSiOLTMp"
      },
      "source": [
        "#the Local Alignment Problem"
      ]
    },
    {
      "cell_type": "code",
      "metadata": {
        "colab": {
          "base_uri": "https://localhost:8080/"
        },
        "id": "sLhAL3KLI0zB",
        "outputId": "a7c79c66-18b0-4f6d-d66c-3a08f1b1fb6a"
      },
      "source": [
        "!wget https://raw.githubusercontent.com/Dinesh-Adhithya-H/Bioinformatics-3-Comparing-Genes-Proteins-and-Genomes/main/PAM250.txt"
      ],
      "execution_count": 8,
      "outputs": [
        {
          "output_type": "stream",
          "text": [
            "--2021-04-26 18:59:51--  https://raw.githubusercontent.com/Dinesh-Adhithya-H/Bioinformatics-3-Comparing-Genes-Proteins-and-Genomes/main/PAM250.txt\n",
            "Resolving raw.githubusercontent.com (raw.githubusercontent.com)... 185.199.108.133, 185.199.110.133, 185.199.111.133, ...\n",
            "Connecting to raw.githubusercontent.com (raw.githubusercontent.com)|185.199.108.133|:443... connected.\n",
            "HTTP request sent, awaiting response... 200 OK\n",
            "Length: 1321 (1.3K) [text/plain]\n",
            "Saving to: ‘PAM250.txt’\n",
            "\n",
            "PAM250.txt          100%[===================>]   1.29K  --.-KB/s    in 0s      \n",
            "\n",
            "2021-04-26 18:59:52 (75.5 MB/s) - ‘PAM250.txt’ saved [1321/1321]\n",
            "\n"
          ],
          "name": "stdout"
        }
      ]
    },
    {
      "cell_type": "code",
      "metadata": {
        "id": "hzYtfJ1ULdP2"
      },
      "source": [
        "import pandas as pd\n",
        "scoring_matrix=pd.read_csv(\"PAM250.txt\",delim_whitespace=True)"
      ],
      "execution_count": 9,
      "outputs": []
    },
    {
      "cell_type": "code",
      "metadata": {
        "colab": {
          "base_uri": "https://localhost:8080/",
          "height": 644
        },
        "id": "67V0CMODLrD8",
        "outputId": "4397bc80-8c08-4a45-b89f-8cde3b93b213"
      },
      "source": [
        "scoring_matrix"
      ],
      "execution_count": 10,
      "outputs": [
        {
          "output_type": "execute_result",
          "data": {
            "text/html": [
              "<div>\n",
              "<style scoped>\n",
              "    .dataframe tbody tr th:only-of-type {\n",
              "        vertical-align: middle;\n",
              "    }\n",
              "\n",
              "    .dataframe tbody tr th {\n",
              "        vertical-align: top;\n",
              "    }\n",
              "\n",
              "    .dataframe thead th {\n",
              "        text-align: right;\n",
              "    }\n",
              "</style>\n",
              "<table border=\"1\" class=\"dataframe\">\n",
              "  <thead>\n",
              "    <tr style=\"text-align: right;\">\n",
              "      <th></th>\n",
              "      <th>A</th>\n",
              "      <th>C</th>\n",
              "      <th>D</th>\n",
              "      <th>E</th>\n",
              "      <th>F</th>\n",
              "      <th>G</th>\n",
              "      <th>H</th>\n",
              "      <th>I</th>\n",
              "      <th>K</th>\n",
              "      <th>L</th>\n",
              "      <th>M</th>\n",
              "      <th>N</th>\n",
              "      <th>P</th>\n",
              "      <th>Q</th>\n",
              "      <th>R</th>\n",
              "      <th>S</th>\n",
              "      <th>T</th>\n",
              "      <th>V</th>\n",
              "      <th>W</th>\n",
              "      <th>Y</th>\n",
              "    </tr>\n",
              "  </thead>\n",
              "  <tbody>\n",
              "    <tr>\n",
              "      <th>A</th>\n",
              "      <td>2</td>\n",
              "      <td>-2</td>\n",
              "      <td>0</td>\n",
              "      <td>0</td>\n",
              "      <td>-3</td>\n",
              "      <td>1</td>\n",
              "      <td>-1</td>\n",
              "      <td>-1</td>\n",
              "      <td>-1</td>\n",
              "      <td>-2</td>\n",
              "      <td>-1</td>\n",
              "      <td>0</td>\n",
              "      <td>1</td>\n",
              "      <td>0</td>\n",
              "      <td>-2</td>\n",
              "      <td>1</td>\n",
              "      <td>1</td>\n",
              "      <td>0</td>\n",
              "      <td>-6</td>\n",
              "      <td>-3</td>\n",
              "    </tr>\n",
              "    <tr>\n",
              "      <th>C</th>\n",
              "      <td>-2</td>\n",
              "      <td>12</td>\n",
              "      <td>-5</td>\n",
              "      <td>-5</td>\n",
              "      <td>-4</td>\n",
              "      <td>-3</td>\n",
              "      <td>-3</td>\n",
              "      <td>-2</td>\n",
              "      <td>-5</td>\n",
              "      <td>-6</td>\n",
              "      <td>-5</td>\n",
              "      <td>-4</td>\n",
              "      <td>-3</td>\n",
              "      <td>-5</td>\n",
              "      <td>-4</td>\n",
              "      <td>0</td>\n",
              "      <td>-2</td>\n",
              "      <td>-2</td>\n",
              "      <td>-8</td>\n",
              "      <td>0</td>\n",
              "    </tr>\n",
              "    <tr>\n",
              "      <th>D</th>\n",
              "      <td>0</td>\n",
              "      <td>-5</td>\n",
              "      <td>4</td>\n",
              "      <td>3</td>\n",
              "      <td>-6</td>\n",
              "      <td>1</td>\n",
              "      <td>1</td>\n",
              "      <td>-2</td>\n",
              "      <td>0</td>\n",
              "      <td>-4</td>\n",
              "      <td>-3</td>\n",
              "      <td>2</td>\n",
              "      <td>-1</td>\n",
              "      <td>2</td>\n",
              "      <td>-1</td>\n",
              "      <td>0</td>\n",
              "      <td>0</td>\n",
              "      <td>-2</td>\n",
              "      <td>-7</td>\n",
              "      <td>-4</td>\n",
              "    </tr>\n",
              "    <tr>\n",
              "      <th>E</th>\n",
              "      <td>0</td>\n",
              "      <td>-5</td>\n",
              "      <td>3</td>\n",
              "      <td>4</td>\n",
              "      <td>-5</td>\n",
              "      <td>0</td>\n",
              "      <td>1</td>\n",
              "      <td>-2</td>\n",
              "      <td>0</td>\n",
              "      <td>-3</td>\n",
              "      <td>-2</td>\n",
              "      <td>1</td>\n",
              "      <td>-1</td>\n",
              "      <td>2</td>\n",
              "      <td>-1</td>\n",
              "      <td>0</td>\n",
              "      <td>0</td>\n",
              "      <td>-2</td>\n",
              "      <td>-7</td>\n",
              "      <td>-4</td>\n",
              "    </tr>\n",
              "    <tr>\n",
              "      <th>F</th>\n",
              "      <td>-3</td>\n",
              "      <td>-4</td>\n",
              "      <td>-6</td>\n",
              "      <td>-5</td>\n",
              "      <td>9</td>\n",
              "      <td>-5</td>\n",
              "      <td>-2</td>\n",
              "      <td>1</td>\n",
              "      <td>-5</td>\n",
              "      <td>2</td>\n",
              "      <td>0</td>\n",
              "      <td>-3</td>\n",
              "      <td>-5</td>\n",
              "      <td>-5</td>\n",
              "      <td>-4</td>\n",
              "      <td>-3</td>\n",
              "      <td>-3</td>\n",
              "      <td>-1</td>\n",
              "      <td>0</td>\n",
              "      <td>7</td>\n",
              "    </tr>\n",
              "    <tr>\n",
              "      <th>G</th>\n",
              "      <td>1</td>\n",
              "      <td>-3</td>\n",
              "      <td>1</td>\n",
              "      <td>0</td>\n",
              "      <td>-5</td>\n",
              "      <td>5</td>\n",
              "      <td>-2</td>\n",
              "      <td>-3</td>\n",
              "      <td>-2</td>\n",
              "      <td>-4</td>\n",
              "      <td>-3</td>\n",
              "      <td>0</td>\n",
              "      <td>0</td>\n",
              "      <td>-1</td>\n",
              "      <td>-3</td>\n",
              "      <td>1</td>\n",
              "      <td>0</td>\n",
              "      <td>-1</td>\n",
              "      <td>-7</td>\n",
              "      <td>-5</td>\n",
              "    </tr>\n",
              "    <tr>\n",
              "      <th>H</th>\n",
              "      <td>-1</td>\n",
              "      <td>-3</td>\n",
              "      <td>1</td>\n",
              "      <td>1</td>\n",
              "      <td>-2</td>\n",
              "      <td>-2</td>\n",
              "      <td>6</td>\n",
              "      <td>-2</td>\n",
              "      <td>0</td>\n",
              "      <td>-2</td>\n",
              "      <td>-2</td>\n",
              "      <td>2</td>\n",
              "      <td>0</td>\n",
              "      <td>3</td>\n",
              "      <td>2</td>\n",
              "      <td>-1</td>\n",
              "      <td>-1</td>\n",
              "      <td>-2</td>\n",
              "      <td>-3</td>\n",
              "      <td>0</td>\n",
              "    </tr>\n",
              "    <tr>\n",
              "      <th>I</th>\n",
              "      <td>-1</td>\n",
              "      <td>-2</td>\n",
              "      <td>-2</td>\n",
              "      <td>-2</td>\n",
              "      <td>1</td>\n",
              "      <td>-3</td>\n",
              "      <td>-2</td>\n",
              "      <td>5</td>\n",
              "      <td>-2</td>\n",
              "      <td>2</td>\n",
              "      <td>2</td>\n",
              "      <td>-2</td>\n",
              "      <td>-2</td>\n",
              "      <td>-2</td>\n",
              "      <td>-2</td>\n",
              "      <td>-1</td>\n",
              "      <td>0</td>\n",
              "      <td>4</td>\n",
              "      <td>-5</td>\n",
              "      <td>-1</td>\n",
              "    </tr>\n",
              "    <tr>\n",
              "      <th>K</th>\n",
              "      <td>-1</td>\n",
              "      <td>-5</td>\n",
              "      <td>0</td>\n",
              "      <td>0</td>\n",
              "      <td>-5</td>\n",
              "      <td>-2</td>\n",
              "      <td>0</td>\n",
              "      <td>-2</td>\n",
              "      <td>5</td>\n",
              "      <td>-3</td>\n",
              "      <td>0</td>\n",
              "      <td>1</td>\n",
              "      <td>-1</td>\n",
              "      <td>1</td>\n",
              "      <td>3</td>\n",
              "      <td>0</td>\n",
              "      <td>0</td>\n",
              "      <td>-2</td>\n",
              "      <td>-3</td>\n",
              "      <td>-4</td>\n",
              "    </tr>\n",
              "    <tr>\n",
              "      <th>L</th>\n",
              "      <td>-2</td>\n",
              "      <td>-6</td>\n",
              "      <td>-4</td>\n",
              "      <td>-3</td>\n",
              "      <td>2</td>\n",
              "      <td>-4</td>\n",
              "      <td>-2</td>\n",
              "      <td>2</td>\n",
              "      <td>-3</td>\n",
              "      <td>6</td>\n",
              "      <td>4</td>\n",
              "      <td>-3</td>\n",
              "      <td>-3</td>\n",
              "      <td>-2</td>\n",
              "      <td>-3</td>\n",
              "      <td>-3</td>\n",
              "      <td>-2</td>\n",
              "      <td>2</td>\n",
              "      <td>-2</td>\n",
              "      <td>-1</td>\n",
              "    </tr>\n",
              "    <tr>\n",
              "      <th>M</th>\n",
              "      <td>-1</td>\n",
              "      <td>-5</td>\n",
              "      <td>-3</td>\n",
              "      <td>-2</td>\n",
              "      <td>0</td>\n",
              "      <td>-3</td>\n",
              "      <td>-2</td>\n",
              "      <td>2</td>\n",
              "      <td>0</td>\n",
              "      <td>4</td>\n",
              "      <td>6</td>\n",
              "      <td>-2</td>\n",
              "      <td>-2</td>\n",
              "      <td>-1</td>\n",
              "      <td>0</td>\n",
              "      <td>-2</td>\n",
              "      <td>-1</td>\n",
              "      <td>2</td>\n",
              "      <td>-4</td>\n",
              "      <td>-2</td>\n",
              "    </tr>\n",
              "    <tr>\n",
              "      <th>N</th>\n",
              "      <td>0</td>\n",
              "      <td>-4</td>\n",
              "      <td>2</td>\n",
              "      <td>1</td>\n",
              "      <td>-3</td>\n",
              "      <td>0</td>\n",
              "      <td>2</td>\n",
              "      <td>-2</td>\n",
              "      <td>1</td>\n",
              "      <td>-3</td>\n",
              "      <td>-2</td>\n",
              "      <td>2</td>\n",
              "      <td>0</td>\n",
              "      <td>1</td>\n",
              "      <td>0</td>\n",
              "      <td>1</td>\n",
              "      <td>0</td>\n",
              "      <td>-2</td>\n",
              "      <td>-4</td>\n",
              "      <td>-2</td>\n",
              "    </tr>\n",
              "    <tr>\n",
              "      <th>P</th>\n",
              "      <td>1</td>\n",
              "      <td>-3</td>\n",
              "      <td>-1</td>\n",
              "      <td>-1</td>\n",
              "      <td>-5</td>\n",
              "      <td>0</td>\n",
              "      <td>0</td>\n",
              "      <td>-2</td>\n",
              "      <td>-1</td>\n",
              "      <td>-3</td>\n",
              "      <td>-2</td>\n",
              "      <td>0</td>\n",
              "      <td>6</td>\n",
              "      <td>0</td>\n",
              "      <td>0</td>\n",
              "      <td>1</td>\n",
              "      <td>0</td>\n",
              "      <td>-1</td>\n",
              "      <td>-6</td>\n",
              "      <td>-5</td>\n",
              "    </tr>\n",
              "    <tr>\n",
              "      <th>Q</th>\n",
              "      <td>0</td>\n",
              "      <td>-5</td>\n",
              "      <td>2</td>\n",
              "      <td>2</td>\n",
              "      <td>-5</td>\n",
              "      <td>-1</td>\n",
              "      <td>3</td>\n",
              "      <td>-2</td>\n",
              "      <td>1</td>\n",
              "      <td>-2</td>\n",
              "      <td>-1</td>\n",
              "      <td>1</td>\n",
              "      <td>0</td>\n",
              "      <td>4</td>\n",
              "      <td>1</td>\n",
              "      <td>-1</td>\n",
              "      <td>-1</td>\n",
              "      <td>-2</td>\n",
              "      <td>-5</td>\n",
              "      <td>-4</td>\n",
              "    </tr>\n",
              "    <tr>\n",
              "      <th>R</th>\n",
              "      <td>-2</td>\n",
              "      <td>-4</td>\n",
              "      <td>-1</td>\n",
              "      <td>-1</td>\n",
              "      <td>-4</td>\n",
              "      <td>-3</td>\n",
              "      <td>2</td>\n",
              "      <td>-2</td>\n",
              "      <td>3</td>\n",
              "      <td>-3</td>\n",
              "      <td>0</td>\n",
              "      <td>0</td>\n",
              "      <td>0</td>\n",
              "      <td>1</td>\n",
              "      <td>6</td>\n",
              "      <td>0</td>\n",
              "      <td>-1</td>\n",
              "      <td>-2</td>\n",
              "      <td>2</td>\n",
              "      <td>-4</td>\n",
              "    </tr>\n",
              "    <tr>\n",
              "      <th>S</th>\n",
              "      <td>1</td>\n",
              "      <td>0</td>\n",
              "      <td>0</td>\n",
              "      <td>0</td>\n",
              "      <td>-3</td>\n",
              "      <td>1</td>\n",
              "      <td>-1</td>\n",
              "      <td>-1</td>\n",
              "      <td>0</td>\n",
              "      <td>-3</td>\n",
              "      <td>-2</td>\n",
              "      <td>1</td>\n",
              "      <td>1</td>\n",
              "      <td>-1</td>\n",
              "      <td>0</td>\n",
              "      <td>2</td>\n",
              "      <td>1</td>\n",
              "      <td>-1</td>\n",
              "      <td>-2</td>\n",
              "      <td>-3</td>\n",
              "    </tr>\n",
              "    <tr>\n",
              "      <th>T</th>\n",
              "      <td>1</td>\n",
              "      <td>-2</td>\n",
              "      <td>0</td>\n",
              "      <td>0</td>\n",
              "      <td>-3</td>\n",
              "      <td>0</td>\n",
              "      <td>-1</td>\n",
              "      <td>0</td>\n",
              "      <td>0</td>\n",
              "      <td>-2</td>\n",
              "      <td>-1</td>\n",
              "      <td>0</td>\n",
              "      <td>0</td>\n",
              "      <td>-1</td>\n",
              "      <td>-1</td>\n",
              "      <td>1</td>\n",
              "      <td>3</td>\n",
              "      <td>0</td>\n",
              "      <td>-5</td>\n",
              "      <td>-3</td>\n",
              "    </tr>\n",
              "    <tr>\n",
              "      <th>V</th>\n",
              "      <td>0</td>\n",
              "      <td>-2</td>\n",
              "      <td>-2</td>\n",
              "      <td>-2</td>\n",
              "      <td>-1</td>\n",
              "      <td>-1</td>\n",
              "      <td>-2</td>\n",
              "      <td>4</td>\n",
              "      <td>-2</td>\n",
              "      <td>2</td>\n",
              "      <td>2</td>\n",
              "      <td>-2</td>\n",
              "      <td>-1</td>\n",
              "      <td>-2</td>\n",
              "      <td>-2</td>\n",
              "      <td>-1</td>\n",
              "      <td>0</td>\n",
              "      <td>4</td>\n",
              "      <td>-6</td>\n",
              "      <td>-2</td>\n",
              "    </tr>\n",
              "    <tr>\n",
              "      <th>W</th>\n",
              "      <td>-6</td>\n",
              "      <td>-8</td>\n",
              "      <td>-7</td>\n",
              "      <td>-7</td>\n",
              "      <td>0</td>\n",
              "      <td>-7</td>\n",
              "      <td>-3</td>\n",
              "      <td>-5</td>\n",
              "      <td>-3</td>\n",
              "      <td>-2</td>\n",
              "      <td>-4</td>\n",
              "      <td>-4</td>\n",
              "      <td>-6</td>\n",
              "      <td>-5</td>\n",
              "      <td>2</td>\n",
              "      <td>-2</td>\n",
              "      <td>-5</td>\n",
              "      <td>-6</td>\n",
              "      <td>17</td>\n",
              "      <td>0</td>\n",
              "    </tr>\n",
              "    <tr>\n",
              "      <th>Y</th>\n",
              "      <td>-3</td>\n",
              "      <td>0</td>\n",
              "      <td>-4</td>\n",
              "      <td>-4</td>\n",
              "      <td>7</td>\n",
              "      <td>-5</td>\n",
              "      <td>0</td>\n",
              "      <td>-1</td>\n",
              "      <td>-4</td>\n",
              "      <td>-1</td>\n",
              "      <td>-2</td>\n",
              "      <td>-2</td>\n",
              "      <td>-5</td>\n",
              "      <td>-4</td>\n",
              "      <td>-4</td>\n",
              "      <td>-3</td>\n",
              "      <td>-3</td>\n",
              "      <td>-2</td>\n",
              "      <td>0</td>\n",
              "      <td>10</td>\n",
              "    </tr>\n",
              "  </tbody>\n",
              "</table>\n",
              "</div>"
            ],
            "text/plain": [
              "   A   C  D  E  F  G  H  I  K  L  M  N  P  Q  R  S  T  V   W   Y\n",
              "A  2  -2  0  0 -3  1 -1 -1 -1 -2 -1  0  1  0 -2  1  1  0  -6  -3\n",
              "C -2  12 -5 -5 -4 -3 -3 -2 -5 -6 -5 -4 -3 -5 -4  0 -2 -2  -8   0\n",
              "D  0  -5  4  3 -6  1  1 -2  0 -4 -3  2 -1  2 -1  0  0 -2  -7  -4\n",
              "E  0  -5  3  4 -5  0  1 -2  0 -3 -2  1 -1  2 -1  0  0 -2  -7  -4\n",
              "F -3  -4 -6 -5  9 -5 -2  1 -5  2  0 -3 -5 -5 -4 -3 -3 -1   0   7\n",
              "G  1  -3  1  0 -5  5 -2 -3 -2 -4 -3  0  0 -1 -3  1  0 -1  -7  -5\n",
              "H -1  -3  1  1 -2 -2  6 -2  0 -2 -2  2  0  3  2 -1 -1 -2  -3   0\n",
              "I -1  -2 -2 -2  1 -3 -2  5 -2  2  2 -2 -2 -2 -2 -1  0  4  -5  -1\n",
              "K -1  -5  0  0 -5 -2  0 -2  5 -3  0  1 -1  1  3  0  0 -2  -3  -4\n",
              "L -2  -6 -4 -3  2 -4 -2  2 -3  6  4 -3 -3 -2 -3 -3 -2  2  -2  -1\n",
              "M -1  -5 -3 -2  0 -3 -2  2  0  4  6 -2 -2 -1  0 -2 -1  2  -4  -2\n",
              "N  0  -4  2  1 -3  0  2 -2  1 -3 -2  2  0  1  0  1  0 -2  -4  -2\n",
              "P  1  -3 -1 -1 -5  0  0 -2 -1 -3 -2  0  6  0  0  1  0 -1  -6  -5\n",
              "Q  0  -5  2  2 -5 -1  3 -2  1 -2 -1  1  0  4  1 -1 -1 -2  -5  -4\n",
              "R -2  -4 -1 -1 -4 -3  2 -2  3 -3  0  0  0  1  6  0 -1 -2   2  -4\n",
              "S  1   0  0  0 -3  1 -1 -1  0 -3 -2  1  1 -1  0  2  1 -1  -2  -3\n",
              "T  1  -2  0  0 -3  0 -1  0  0 -2 -1  0  0 -1 -1  1  3  0  -5  -3\n",
              "V  0  -2 -2 -2 -1 -1 -2  4 -2  2  2 -2 -1 -2 -2 -1  0  4  -6  -2\n",
              "W -6  -8 -7 -7  0 -7 -3 -5 -3 -2 -4 -4 -6 -5  2 -2 -5 -6  17   0\n",
              "Y -3   0 -4 -4  7 -5  0 -1 -4 -1 -2 -2 -5 -4 -4 -3 -3 -2   0  10"
            ]
          },
          "metadata": {
            "tags": []
          },
          "execution_count": 10
        }
      ]
    },
    {
      "cell_type": "code",
      "metadata": {
        "id": "Uwo8I6m-LsJy"
      },
      "source": [
        "def sigma():\n",
        "  return 5"
      ],
      "execution_count": 11,
      "outputs": []
    },
    {
      "cell_type": "code",
      "metadata": {
        "id": "PjFz0HE2MBEc"
      },
      "source": [
        "def maximum(arr):\n",
        "  max=0\n",
        "  for i in range(len(arr)):\n",
        "    if arr[i]>max:\n",
        "      max=arr[i]\n",
        "  return(max)"
      ],
      "execution_count": 12,
      "outputs": []
    },
    {
      "cell_type": "code",
      "metadata": {
        "id": "xMH5J7mwMDjF"
      },
      "source": [
        "def Local_Alignment(seq1,seq2,n,m):\n",
        "\n",
        "  table=[ [0 for i in range(m+1)] for j in range(n+1)]\n",
        "  for i in range(n+1):\n",
        "    table[i][0]=-sigma()*i\n",
        "  for i in range(m+1):\n",
        "    table[0][i]=-sigma()*i\n",
        "\n",
        "  bcktrk=[ [\"0\" for i in range(m+1)] for j in range(n+1)]\n",
        "\n",
        "  max=0\n",
        "  max_i=0\n",
        "  max_j=0\n",
        "  for i in range(1,n+1):\n",
        "    for j in range(1,m+1):\n",
        "      scores=[0,table[i-1][j]-sigma(),table[i][j-1]-sigma(),table[i-1][j-1]+scoring_matrix[seq1[i-1]][seq2[j-1]]]\n",
        "      table[i][j]=maximum(scores)\n",
        "      if table[i][j]==scores[0]:\n",
        "        bcktrk[i][j]=\"0\"\n",
        "      if table[i][j]==scores[1]:\n",
        "        bcktrk[i][j]=\"U\"\n",
        "      if table[i][j]==scores[2]:\n",
        "        bcktrk[i][j]=\"L\"\n",
        "      if table[i][j]==scores[3]:\n",
        "        bcktrk[i][j]=\"D\"\n",
        "      if table[i][j]>max:\n",
        "        max_i=i\n",
        "        max_j=j\n",
        "        max=table[i][j]\n",
        "\n",
        "  s1=\"\"\n",
        "  s2=\"\"\n",
        "  j=max_j\n",
        "  i=max_i\n",
        "  print(bcktrk)\n",
        "  score=table[i][j]\n",
        "  while bcktrk[i][j]!=\"0\":\n",
        "    if bcktrk[i][j]==\"D\":\n",
        "      s2=seq2[j-1]+s2\n",
        "      s1=seq1[i-1]+s1\n",
        "      i=i-1\n",
        "      j=j-1\n",
        "      print(\"dia\")\n",
        "      print(s1,s2)\n",
        "    elif bcktrk[i][j]==\"L\":\n",
        "      s1=\"-\"+s1\n",
        "      s2=seq2[j-1]+s2\n",
        "      j=j-1\n",
        "      print(\"down\")\n",
        "    elif bcktrk[i][j]==\"U\":\n",
        "      s2=\"-\"+s2\n",
        "      s1=seq1[i-1]+s1\n",
        "      i=i-1\n",
        "      print(\"up\")\n",
        "  print(score)\n",
        "  return (score,s1,s2)"
      ],
      "execution_count": 25,
      "outputs": []
    },
    {
      "cell_type": "code",
      "metadata": {
        "id": "U6hGbDA7MXga"
      },
      "source": [
        "s1=\"MFSFWEEFDSVSDVSDVSEANLY\"\n",
        "s2=\"PENALSVSVSVSVEVEVSTY\"\n",
        "n=len(s1)\n",
        "m=len(s2)"
      ],
      "execution_count": 29,
      "outputs": []
    },
    {
      "cell_type": "code",
      "metadata": {
        "colab": {
          "base_uri": "https://localhost:8080/"
        },
        "id": "rcbakc6bNktL",
        "outputId": "df41be28-a425-4e2d-9b01-b33dd04fddf1"
      },
      "source": [
        "%time s,a,b=Local_Alignment(s1,s2,n,m)"
      ],
      "execution_count": 30,
      "outputs": [
        {
          "output_type": "stream",
          "text": [
            "[['0', '0', '0', '0', '0', '0', '0', '0', '0', '0', '0', '0', '0', '0', '0', '0', '0', '0', '0', '0', '0'], ['0', '0', '0', '0', '0', '0', '0', '0', '0', '0', '0', '0', '0', '0', '0', '0', '0', '0', '0', '0', '0'], ['0', '0', '0', '0', '0', 'D', '0', '0', '0', '0', '0', '0', '0', '0', '0', '0', '0', '0', '0', '0', 'D'], ['0', '0', 'D', 'D', 'D', '0', 'D', '0', 'D', '0', 'D', '0', 'D', '0', 'D', '0', 'D', '0', 'D', 'D', 'U'], ['0', '0', '0', '0', '0', 'D', '0', 'D', '0', 'D', '0', 'D', '0', 'D', '0', '0', '0', '0', '0', '0', 'D'], ['0', '0', '0', '0', '0', '0', 'D', '0', 'D', '0', '0', '0', '0', '0', '0', '0', '0', '0', '0', '0', 'U'], ['0', '0', 'D', 'D', 'D', '0', 'D', '0', 'D', '0', 'D', '0', 'D', '0', 'D', '0', 'D', '0', 'D', 'D', '0'], ['0', '0', 'D', 'D', 'D', '0', 'D', '0', 'D', '0', 'D', '0', 'D', '0', 'D', 'D', 'D', 'D', 'D', 'D', '0'], ['0', '0', '0', 'D', 'D', 'D', '0', '0', '0', '0', '0', '0', '0', '0', '0', 'D', '0', 'D', '0', '0', 'D'], ['0', '0', 'D', 'D', 'D', '0', 'D', '0', 'D', '0', 'D', '0', 'D', '0', 'D', '0', 'D', 'L', 'D', 'D', 'U'], ['0', '0', 'D', 'D', 'D', '0', 'D', 'D', 'D', '0', 'D', '0', 'D', '0', 'D', 'D', 'U', 'D', 'D', 'D', '0'], ['0', '0', '0', '0', 'D', 'D', 'L', 'D', 'D', 'D', 'L', 'D', 'L', 'D', 'L', 'D', 'D', 'D', 'D', 'D', 'D'], ['0', '0', 'D', 'D', 'D', 'D', 'D', 'L', 'D', 'L', 'D', 'L', 'D', 'L', 'D', 'L', 'D', 'U', 'D', 'D', 'D'], ['0', '0', 'D', 'D', 'D', '0', 'U', 'D', 'U', 'D', 'D', 'D', 'D', 'D', 'D', 'D', 'D', 'D', 'U', 'D', 'L'], ['0', '0', '0', 'D', 'D', 'D', '0', 'D', 'D', 'D', 'D', 'D', 'D', 'D', 'D', 'D', 'L', 'D', 'L', 'D', 'D'], ['0', '0', 'D', 'D', 'D', '0', 'D', 'U', 'D', 'D', 'D', 'D', 'D', 'D', 'D', 'U', 'D', 'L', 'D', 'L', 'L'], ['0', '0', 'D', 'D', 'D', '0', 'D', 'D', 'U', 'D', 'U', 'D', 'D', 'D', 'D', 'D', 'D', 'D', 'D', 'D', 'L'], ['0', '0', '0', 'D', 'D', 'D', '0', 'D', 'D', 'D', 'D', 'D', 'D', 'D', 'D', 'D', 'L', 'D', 'D', 'D', 'D'], ['0', '0', 'D', 'D', 'D', '0', 'D', 'L', 'D', 'U', 'D', 'D', 'D', 'D', 'D', 'U', 'D', 'U', 'D', 'L', 'L'], ['0', '0', 'D', 'D', 'D', '0', 'D', 'D', 'U', 'D', 'U', 'D', 'U', 'D', 'D', 'D', 'D', 'D', 'U', 'D', 'L'], ['0', '0', 'D', 'D', 'D', '0', 'D', 'D', 'D', 'D', 'D', 'D', 'D', 'D', 'D', 'D', 'D', 'D', 'D', 'D', 'D'], ['0', '0', 'D', 'D', 'D', 'D', 'D', '0', 'D', 'D', 'D', 'D', 'D', 'D', 'D', 'D', 'D', 'L', 'D', 'D', 'D'], ['0', '0', '0', '0', 'D', 'D', 'L', 'D', '0', 'D', '0', 'D', 'D', 'D', 'D', 'D', 'U', 'D', 'L', 'D', 'D'], ['0', '0', '0', '0', '0', 'U', 'D', 'D', 'D', '0', 'D', '0', 'D', 'U', 'D', 'U', 'D', 'U', 'D', 'D', 'D']]\n",
            "dia\n",
            "Y Y\n",
            "dia\n",
            "LY TY\n",
            "dia\n",
            "NLY STY\n",
            "dia\n",
            "ANLY VSTY\n",
            "dia\n",
            "EANLY EVSTY\n",
            "up\n",
            "dia\n",
            "VSEANLY V-EVSTY\n",
            "dia\n",
            "DVSEANLY EV-EVSTY\n",
            "dia\n",
            "SDVSEANLY VEV-EVSTY\n",
            "dia\n",
            "VSDVSEANLY SVEV-EVSTY\n",
            "dia\n",
            "DVSDVSEANLY VSVEV-EVSTY\n",
            "dia\n",
            "SDVSDVSEANLY SVSVEV-EVSTY\n",
            "dia\n",
            "VSDVSDVSEANLY VSVSVEV-EVSTY\n",
            "dia\n",
            "SVSDVSDVSEANLY SVSVSVEV-EVSTY\n",
            "19\n",
            "CPU times: user 10.1 ms, sys: 2.03 ms, total: 12.1 ms\n",
            "Wall time: 14.2 ms\n"
          ],
          "name": "stdout"
        }
      ]
    },
    {
      "cell_type": "code",
      "metadata": {
        "colab": {
          "base_uri": "https://localhost:8080/"
        },
        "id": "qxl3TS20No_3",
        "outputId": "3a30ceee-ce79-494f-814c-a2d166c53c60"
      },
      "source": [
        "a,b"
      ],
      "execution_count": 31,
      "outputs": [
        {
          "output_type": "execute_result",
          "data": {
            "text/plain": [
              "('SVSDVSDVSEANLY', 'SVSVSVEV-EVSTY')"
            ]
          },
          "metadata": {
            "tags": []
          },
          "execution_count": 31
        }
      ]
    },
    {
      "cell_type": "markdown",
      "metadata": {
        "id": "soJELxQVkSZo"
      },
      "source": [
        "# the edit distance between two strings"
      ]
    },
    {
      "cell_type": "code",
      "metadata": {
        "id": "FyvmrJpWQv1C"
      },
      "source": [
        "def edit_distance(s1,s2):\n",
        "  if s1==\"\":\n",
        "    return (len(s2))\n",
        "  if s2==\"\":\n",
        "    return (len(s1))\n",
        "  if s1[-1]==s2[-1]:\n",
        "    mismatch=0\n",
        "  else:\n",
        "    mismatch=1\n",
        "  result=min(edit_distance(s1[:-1],s2)+1,edit_distance(s1,s2[:-1])+1,edit_distance(s1[:-1],s2[:-1])+mismatch)\n",
        "  return (result)"
      ],
      "execution_count": 2,
      "outputs": []
    },
    {
      "cell_type": "code",
      "metadata": {
        "id": "aJPCIu06nduH"
      },
      "source": [
        "def edit_distance(s1,s2):\n",
        "  n=len(s1)\n",
        "  m=len(s2)\n",
        "  table=[[0 for i in range(n+1)] for j in range(m+1)]\n",
        "  for i in range(n+1):\n",
        "    table[0][i]=i\n",
        "  for i in range(m+1):\n",
        "    table[i][0]=i\n",
        "  for i in range(1,m+1):\n",
        "    for j in range(1,n+1):\n",
        "      if s2[i-1]==s1[j-1]:\n",
        "        cost=0\n",
        "      else:\n",
        "        cost=1\n",
        "      table[i][j]=min(table[i-1][j]+1,table[i][j-1]+1,table[i-1][j-1]+cost)\n",
        "  return table[m][n]"
      ],
      "execution_count": 16,
      "outputs": []
    },
    {
      "cell_type": "code",
      "metadata": {
        "colab": {
          "base_uri": "https://localhost:8080/"
        },
        "id": "BECQNw7akk6f",
        "outputId": "a54f984d-57d1-4e8d-f6cb-d023dc22149b"
      },
      "source": [
        "edit_distance(\"THKCNEIAWRDTPCLNIKEMRNTHGGPIHMRYPFMDRQWWPEENNQEVPRLPGPDLNNCGNFVTKVAMDTMEANNMYRCGPGYAWYRFYFPGSHHRFMTSFGMKGHTVNMTVGLREQPFACQFFKDPEDPPMQTESGNVKWQFSYCLGHKVRAGCFYTKGKSHGLLRKRKIYYLTKWQFSYWYQDCMFKKSVTEYQHAVKFHFKEAFNQCFMGRKNMVSDKYHFASMTYLGMWFMQIMNDMVSPNKHSLPDDRAYVQYWVVFNLQHTQARHLSIILYMANFIRFIELTHYLSSLLKNKSTRWNRHMIMGTDYKWWTMLGDVWFEYSSQKCGISSKEEYRNKWAQTAMKTPLTGNTWCTYWHRRVCLCMNYLDDPDCKAEKMVHCCSKTGITECVQDKQWDYAGTKEGVRAYMFHNTINQRHDLRGFVEIKASEWARASLQTRKVYYFANIKSKEFMDRMIDCIYDNAWNLCITGHIPHAPAAVPSKLMDDMEALTLSLADYMEMHRNSAVSDHFIVDMHAVIKELAAGQLNTIMHEDGELFPNECFMMSVRQKWFTEGQVEYIKASGNFYFFVKPHPEVELPHWPPAHFKCTQVLARIRWTDLKNCHNQGRGAIWNPMEMSGWWIRYHTFRQWVEFPKILGDPNRTRWTILKKTNLRCFDIVSDRYEQETTSIPNFMGIRDKGGPNKSYGQTDIFVSRTFGCGGGKVHLCNPDAAQLQGMLRHQPRQGQGGARSSCFPCWRRRNPHISLIIRFRCHFMDESLEWNMGDEFVDEMMLNEGPTRVVPLPWFTIANRANLVSFHTS\",\"THKCNEIAWRDNLHTIDSLRPCGWIAHFNIKEMRNTHQGPIHMRYPFMDRQWWPEEVGTEVPRLPGPMLNNCGNFVTKGACDKMEANNMYRCRPGYAWYVQICYTLRFMTSFGMKGHTMNMTVGPFACQFFKHPEDPPVQTESGNHKWQFSYCLGHKVRRWMDRTKSHGLLRHRSQRQIYYWQFSYWYQDCKSDTEYQRGEYAVKFHFAIMRSWYEAFNQNMVHIQQRAYDKYHFASMTYLGSWFMQIMNNGWYMIECKYAYVQYCCHECTNKNLQHTQAPLGGHLSIILYMANFIRHITHYLSSLLKNKSTAAAAHIKLVWNRHMIMGMDMTEDDKWWTMLGEGWMKDVWFEYSSQKCGISSKEEGKCIDPLPENKWAQTAMKVPGMVNAYGYWHRRVCLCMNYLDDPVLKLDMHKAEKMVHTECVCDKQWDYAGTKEGVNRPKWAYMFHNTINQRHLRGFVEIKANEWAAASCQTRMVYYFMKQMGRENFNIKSKCIYDNSGSHHWNLCITAMHSSHIAVLMDDMEALTFTVISLADYMEFHRNSAVSNHFIVDMHALLGQPNTIESELFPYECFVMSVRQGQYEYPEVELSKCWRPPPAHFKCTAVLLKNCHPVMYQGRMEMSGWWIRYHTFYNHAQQWTEFPKICGDPNRTRWTIDCTDTVELWVISSDRPYTGRQNTTGESIGREQQQTFNQRDLQCPAIGGWNLSYGQSADIFVSRTGGCGGQKVKAQLQGMLRHQPRQTQGGARSSCFMMCIPMRHGWQVVAISLIIRFWCHFMDPSLEWNMGDEFVDEMMLNETPTRVVRVLPWVSFHTS\")"
      ],
      "execution_count": 18,
      "outputs": [
        {
          "output_type": "execute_result",
          "data": {
            "text/plain": [
              "339"
            ]
          },
          "metadata": {
            "tags": []
          },
          "execution_count": 18
        }
      ]
    },
    {
      "cell_type": "markdown",
      "metadata": {
        "id": "gw79zs2RyZoK"
      },
      "source": [
        "#the fitting alignment problem"
      ]
    },
    {
      "cell_type": "code",
      "metadata": {
        "id": "KaA4JbmwkmBg"
      },
      "source": [
        "v=\"GTAGGCTTAAGGTTA\"\n",
        "w=\"TAGATA\""
      ],
      "execution_count": 3,
      "outputs": []
    },
    {
      "cell_type": "code",
      "metadata": {
        "id": "m0DIjX0fS5Mm"
      },
      "source": [
        "def fitting_alignment(seq1,seq2):\n",
        "  n=len(seq1)\n",
        "  m=len(seq2)\n",
        "  table=[ [0 for i in range(m+1)] for j in range(n+1)]\n",
        "  backtrack=[ [\"0\" for i in range(m+1)] for j in range(n+1)]\n",
        "  for i in range(1,n+1):\n",
        "    for j in range(1,m+1):\n",
        "      if seq1[i-1]==seq2[j-1]:\n",
        "        cost=1\n",
        "      else:\n",
        "        cost=-1\n",
        "      score1=table[i-1][j-1]+cost\n",
        "      score2=table[i-1][j]-1\n",
        "      score3=table[i][j-1]-1\n",
        "      table[i][j]=max(score1,score2,score3)\n",
        "      if table[i][j]==score1:\n",
        "        backtrack[i][j]=\"D\"\n",
        "      elif table[i][j]==score2:\n",
        "        backtrack[i][j]=\"U\"\n",
        "      elif table[i][j]==score3:\n",
        "        backtrack[i][j]=\"L\"\n",
        "  s1=''\n",
        "  s2=''\n",
        "  j=m\n",
        "  i = max(enumerate([table[row][m] for row in range(m,n)]), key=lambda x: x[1])[0] + m\n",
        "  score=table[i][j]\n",
        "  while backtrack[i][j]!=\"0\":\n",
        "    #print(i,j)\n",
        "    if backtrack[i][j]==\"D\":\n",
        "      s2=seq2[j-1]+s2\n",
        "      s1=seq1[i-1]+s1\n",
        "      i=i-1\n",
        "      j=j-1\n",
        "    elif backtrack[i][j]==\"U\":\n",
        "      s2=\"-\"+s2\n",
        "      s1=seq1[i-1]+s1\n",
        "      i=i-1\n",
        "    else:\n",
        "      s1=\"-\"+s1\n",
        "      s2=seq2[j-1]+s2\n",
        "      j=j-1\n",
        "  return (score,s1,s2)"
      ],
      "execution_count": 32,
      "outputs": []
    },
    {
      "cell_type": "code",
      "metadata": {
        "colab": {
          "base_uri": "https://localhost:8080/"
        },
        "id": "4XWZotFBTdle",
        "outputId": "cb04341d-3618-4ca6-c5d7-49fb60cfe724"
      },
      "source": [
        "fitting_alignment(\"GTAGGCTTAAGGTTA\",\"TAGATA\")"
      ],
      "execution_count": 33,
      "outputs": [
        {
          "output_type": "execute_result",
          "data": {
            "text/plain": [
              "(2, 'TAGGCTTA', 'TA-G-ATA')"
            ]
          },
          "metadata": {
            "tags": []
          },
          "execution_count": 33
        }
      ]
    },
    {
      "cell_type": "code",
      "metadata": {
        "colab": {
          "base_uri": "https://localhost:8080/"
        },
        "id": "Zzu2ltrXS6Ku",
        "outputId": "85c40ed0-955b-4039-9ce2-571b9b46c896"
      },
      "source": [
        "fitting_alignment(\"GTGTCGTCATCCCACCTTGTAACGACGCCTCAGACAATGTTGATATATCAGATCTGTTCGACCCTAACCGTATTATGAAGGAAAATTAGTCTCGAAGGCACCTAAGCCTTTCTTAAAAGCAGCAACGGCCACATTATAGCTACATCCGCTAAGAGCGGTTTGCATCCTGATACTTCCATGCTTACTGATGAGGATACCGACACTTACTAGCTGCTGCACCTTTCCCCATTCCTCCTTTTAAAGTACGTGGTGATAACGTAAAAGCCTAAAGAGATTTCATAGCATCAACTTTCACCATCAACTAATTAGAAGAATCACATAAGGTTGCTGGTAGGATTCGAGTAGCTTTATACCACGCCTCACCGGGAGCGACGGGATTTTCGATGACGATAACTCTGGTAGCATATCGTACCAATGCCGGTGCCACAGCCAGATCGCCCGTTCCCCTACTGACGTGATTAACCGACAATGAGATTCGCGCCATGGGCCGTACAGGTTTTAAACAGGATAGATGAAGAAACTGAAATACCGCGGATGCCTCAGCACAAGTTCCGTTGATAATTAAAGGAGGCTCCGCTAGCCCGCACTCTGATGTATTGACTCTCGATTCCGGTTGCGAATTAAATTGTTTTTACTTCGGCAAGAATTACCGGATATAACCCACTACACTCGAACATCATCGCGAAGGAAAGGCTCGAATCATCTGCTTAACCTTGAGCACACCGGATGTGGTCTAACGTTTATGGACGATGCTTAATGATGGCGGGCGTGAGGCGTCATAAGACGGAAGAAGAAATTAACGTTCTGGGGTTAATACGGTGTACTACGGCATCCCCTCACTGGCCGGATGACA\",\"GACCCAGGAGAGTTCCGAGACTGCCAGGTTTAAATTGGTTATTCAAGCAAAGCACAGATTCGCCGAAATGACACAATCGTAGGCT\")"
      ],
      "execution_count": 34,
      "outputs": [
        {
          "output_type": "execute_result",
          "data": {
            "text/plain": [
              "(20,\n",
              " 'GA-CAATGAGA-TTCGCGCCATGGGCCGTACAGGTTTTAAACAGGATAGATGAAG-AAA-CTGAAATACCGCGGATGCCTCAGCACAAGTTCCGT-TGAT',\n",
              " 'GACCCAGGAGAGTTC-CG--A--GACTG-CCAGG-TTTAAATTGGTTA-TTCAAGCAAAGCACAGAT-TCGCCGA--AATGA-CACAA--T-CGTAGGCT')"
            ]
          },
          "metadata": {
            "tags": []
          },
          "execution_count": 34
        }
      ]
    },
    {
      "cell_type": "markdown",
      "metadata": {
        "id": "2pe0cG60TYLS"
      },
      "source": [
        "#the Overlap Alignment Problem"
      ]
    },
    {
      "cell_type": "code",
      "metadata": {
        "id": "HFI7CRoyThTQ"
      },
      "source": [
        ""
      ],
      "execution_count": null,
      "outputs": []
    }
  ]
}